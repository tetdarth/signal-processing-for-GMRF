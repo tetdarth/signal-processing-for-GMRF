{
 "cells": [
  {
   "cell_type": "markdown",
   "metadata": {},
   "source": [
    "# 実験概要\n",
    "## CMNによる特徴量抽出\n",
    "**ケプストラム平均正規化** (Cepstrum Mean Normalization : CMN) を使用し、特徴量を抽出する。\n",
    "切り出した波形に対して**離散フーリエ変換** (Discrete Fourier Transform : DFT) を行い、絶対値を取ることで**振幅スペクトル**を得る。\n",
    "これに対して対数を取って**対数振幅スペクトル**に変換し、逆離散フーリエ変換 (Inverse Discrete Fourier Transform : IDFT) を行うことで、ケプストラム領域へと変換し、先頭50要素を切り出し、結合した100要素の配列を前処理として返す。\n",
    "この前処理は\n",
    "```\n",
    "left, right, posture = pp.slicer(\"raw\\\\\" + tester.**.**.value)\n",
    "cepstrum = pp.cmn_denoise(left, right)\n",
    "```\n",
    "によって行われる。\n",
    "\n",
    "## DNNによる寝姿勢分類\n",
    "DNNによって前処理したデータから学習・分類を行う。"
   ]
  },
  {
   "cell_type": "markdown",
   "metadata": {},
   "source": [
    "# モジュールのインポート"
   ]
  },
  {
   "cell_type": "code",
   "execution_count": 1,
   "metadata": {},
   "outputs": [],
   "source": [
    "import numpy as np\n",
    "import glob\n",
    "\n",
    "# 自作モジュール\n",
    "import datapath as dpath\n",
    "import preprocess as pp"
   ]
  },
  {
   "cell_type": "markdown",
   "metadata": {},
   "source": [
    "# DataLoaderの定義"
   ]
  },
  {
   "cell_type": "code",
   "execution_count": 2,
   "metadata": {},
   "outputs": [],
   "source": [
    "# tester以外のrawを読み込む\n",
    "for p in glob.glob(\".\\\\raw\\\\LMH\\\\*\\\\\", recursive=True):\n",
    "    print(p)"
   ]
  },
  {
   "cell_type": "code",
   "execution_count": 3,
   "metadata": {},
   "outputs": [
    {
     "name": "stdout",
     "output_type": "stream",
     "text": [
      "raw\\LMH\\H002\\fl_center\n",
      "type : LMH,  tester : H002,  mattress : fl\n",
      "[WindowsPath('raw/LMH/H002/fl_center'), WindowsPath('raw/LMH/H003/fl_center'), WindowsPath('raw/LMH/L001/fl_center'), WindowsPath('raw/LMH/L003/fl_center'), WindowsPath('raw/LMH/M001/fls_center'), WindowsPath('raw/LMH/M001/fld_center'), WindowsPath('raw/LMH/M001/fls_center'), WindowsPath('raw/LMH/M002/fls_center'), WindowsPath('raw/LMH/M002/fld_center'), WindowsPath('raw/LMH/M002/fls_center'), WindowsPath('raw/LMH/M003/fls_center'), WindowsPath('raw/LMH/M003/fld_center'), WindowsPath('raw/LMH/M003/fls_center'), WindowsPath('raw/LMH/M004/fls_center'), WindowsPath('raw/LMH/M004/fls_left'), WindowsPath('raw/LMH/M004/fls_right'), WindowsPath('raw/LMH/H002/fl_center'), WindowsPath('raw/LMH/H003/fl_center'), WindowsPath('raw/LMH/L001/fl_center'), WindowsPath('raw/LMH/L003/fl_center'), WindowsPath('raw/LMH/M001/fls_center'), WindowsPath('raw/LMH/M001/fld_center'), WindowsPath('raw/LMH/M001/fls_center'), WindowsPath('raw/LMH/M002/fls_center'), WindowsPath('raw/LMH/M002/fld_center'), WindowsPath('raw/LMH/M002/fls_center'), WindowsPath('raw/LMH/M003/fls_center'), WindowsPath('raw/LMH/M003/fld_center'), WindowsPath('raw/LMH/M003/fls_center'), WindowsPath('raw/LMH/M004/fls_center'), WindowsPath('raw/LMH/M004/fls_left'), WindowsPath('raw/LMH/M004/fls_right')]\n"
     ]
    }
   ],
   "source": [
    "e = dpath.LMH.H002.value.fl_center\n",
    "print(e.value)\n",
    "\n",
    "type, tester, mattress = dpath.getattributes(e, position=False)\n",
    "print(f\"type : {type},  tester : {tester},  mattress : {mattress}\")\n",
    "train_paths = eval(f\"dpath.{type}.serch('{mattress}')\")\n",
    "print(train_paths)"
   ]
  },
  {
   "cell_type": "code",
   "execution_count": 4,
   "metadata": {},
   "outputs": [],
   "source": [
    "import torch\n",
    "from typing import Tuple\n",
    "from torch.utils.data import Dataset, DataLoader\n",
    "from torchvision import transforms\n",
    "\n",
    "# 標準化 (平均 0 , 分散 1 )\n",
    "def standardization(a, axis=None, ddof=0):\n",
    "    a_mean = a.mean(axis=axis, keepdims=True)\n",
    "    a_std = a.std(axis=axis, keepdims=True, ddof=ddof)\n",
    "    return (a - a_mean) / a_std\n",
    "\n",
    "# 学習用データセットを読み込むためのDataLoaderを定義\n",
    "class train_datasets(Dataset):\n",
    "    def __init__(self, identity, transforms=None):\n",
    "        self.transform = transforms\n",
    "        self.type, self.tester, self.mattress = dpath.getattributes(identity)\n",
    "        print(self.type, self.tester, self.mattress)\n",
    "        print(\"train\")\n",
    "\n",
    "        # テスト以外のrawを読み込む\n",
    "        self.train_cepstrum = np.empty((0, 100))  # 100要素の配列\n",
    "        self.train_posture = np.empty(0)  # 姿勢データ配列\n",
    "\n",
    "        # mattressに該当するrawのpathを読み込む\n",
    "        train_paths = eval(f\"dpath.{self.type}.serch('{self.mattress}')\")\n",
    "        for p in train_paths:\n",
    "            if identity.value == p:\n",
    "                continue\n",
    "            left, right, posture = pp.slicer(p)\n",
    "            cepstrum = pp.cmn_denoise(left, right)\n",
    "            for cep in cepstrum:\n",
    "                cep = standardization(cep)\n",
    "                self.train_cepstrum = np.vstack((self.train_cepstrum, cep)) if self.train_cepstrum.size else cep\n",
    "            self.train_posture = np.append(self.train_posture, posture) if self.train_posture.size else posture\n",
    "\n",
    "    def __len__(self):\n",
    "        return len(self.train_posture)\n",
    "\n",
    "    def __getitem__(self, idx) -> Tuple[torch.tensor, torch.tensor]:\n",
    "        cepstrum = torch.tensor(self.train_cepstrum[idx].reshape(1, -1), dtype=torch.float32)\n",
    "        posture = torch.tensor(self.train_posture[idx]-1, dtype=torch.long)\n",
    "        if self.transform:\n",
    "            cepstrum = self.transform(cepstrum)\n",
    "        return cepstrum, posture\n",
    "\n",
    "\n",
    "# test用データセット\n",
    "class test_datasets(Dataset):\n",
    "    def __init__(self, identity, transform=None):\n",
    "        self.transform = transform\n",
    "        self.type, self.tester, self.mattress = dpath.getattributes(identity)\n",
    "        print(\"test\")\n",
    "\n",
    "        # 前処理したrawを読み込む\n",
    "        self.left, self.right, self.test_posture = pp.slicer(identity.value)\n",
    "        self.test_cepstrum = pp.cmn_denoise(self.left, self.right)\n",
    "        self.test_cepstrum = standardization(self.test_cepstrum)\n",
    "\n",
    "    def __len__(self):\n",
    "        return len(self.test_posture)\n",
    "\n",
    "    def __getitem__(self, idx) -> Tuple[torch.tensor, torch.tensor]:\n",
    "        cepstrum = torch.tensor(self.test_cepstrum[idx].reshape(1, -1), dtype=torch.float32)\n",
    "        posture = torch.tensor(self.test_posture[idx]-1, dtype=torch.long)\n",
    "        if self.transform:\n",
    "            cepstrum = self.transform(cepstrum)\n",
    "        return cepstrum, posture"
   ]
  },
  {
   "cell_type": "markdown",
   "metadata": {},
   "source": [
    "# 学習＆検証"
   ]
  },
  {
   "cell_type": "code",
   "execution_count": 5,
   "metadata": {},
   "outputs": [
    {
     "name": "stdout",
     "output_type": "stream",
     "text": [
      "cuda\n"
     ]
    }
   ],
   "source": [
    "import torch\n",
    "\n",
    "device = torch.device('cuda' if torch.cuda.is_available() else 'cpu')\n",
    "print(device)"
   ]
  },
  {
   "cell_type": "code",
   "execution_count": 6,
   "metadata": {},
   "outputs": [
    {
     "name": "stdout",
     "output_type": "stream",
     "text": [
      "LMH M002 ka\n",
      "train\n",
      "data[168 / 223]\n",
      "data[214 / 268]\n",
      "data[154 / 223]\n",
      "data[204 / 215]\n",
      "data[218 / 238]\n",
      "data[193 / 215]\n",
      "data[206 / 223]\n",
      "data[182 / 208]\n",
      "data[200 / 208]\n",
      "data[217 / 283]\n",
      "data[192 / 223]\n",
      "data[209 / 253]\n",
      "data[171 / 356]\n",
      "data[204 / 310]\n",
      "data[204 / 301]\n",
      "data[207 / 345]\n",
      "data[218 / 321]\n",
      "data[208 / 370]\n",
      "data[243 / 578]\n",
      "data[230 / 399]\n",
      "data[125 / 306]\n",
      "data[109 / 244]\n",
      "data[126 / 313]\n",
      "data[168 / 223]\n",
      "data[214 / 268]\n",
      "data[154 / 223]\n",
      "data[204 / 215]\n",
      "data[218 / 238]\n",
      "data[193 / 215]\n",
      "data[206 / 223]\n",
      "data[182 / 208]\n",
      "data[200 / 208]\n",
      "data[217 / 283]\n",
      "data[192 / 223]\n",
      "data[209 / 253]\n",
      "data[171 / 356]\n",
      "data[204 / 310]\n",
      "data[204 / 301]\n",
      "data[207 / 345]\n",
      "data[218 / 321]\n",
      "data[208 / 370]\n",
      "data[243 / 578]\n",
      "data[230 / 399]\n",
      "data[125 / 306]\n",
      "data[109 / 244]\n",
      "data[126 / 313]\n",
      "test\n",
      "data[277 / 594]\n"
     ]
    }
   ],
   "source": [
    "# 被験者\n",
    "identity = dpath.LMH.M002.value.ka_center\n",
    "\n",
    "train_val = train_datasets(identity)\n",
    "test = test_datasets(identity)\n",
    "batch_size = 128\n",
    "\n",
    "n_samples = len(train_val)\n",
    "train_size = int(n_samples * 0.8)    # [train : val] を [8 : 2] に分割\n",
    "val_size = n_samples - train_size\n",
    "\n",
    "train, val = torch.utils.data.random_split(train_val, [train_size, val_size])\n",
    "\n",
    "train_loader = DataLoader(\n",
    "    train,\n",
    "    batch_size=batch_size,\n",
    "    shuffle=True,\n",
    "    drop_last=True\n",
    ")\n",
    "\n",
    "val_loader = DataLoader(\n",
    "    val,\n",
    "    batch_size=batch_size,\n",
    "    shuffle=True,\n",
    "    drop_last=True\n",
    ")\n",
    "\n",
    "test_loader = DataLoader(\n",
    "    test,\n",
    "    shuffle=False,\n",
    ")"
   ]
  },
  {
   "cell_type": "markdown",
   "metadata": {},
   "source": [
    "## 学習"
   ]
  },
  {
   "cell_type": "code",
   "execution_count": 7,
   "metadata": {},
   "outputs": [
    {
     "name": "stdout",
     "output_type": "stream",
     "text": [
      "Epoch[1/100] | train_loss: 1.41625 | train_acc: 0.25980 | val_loss: 0.21226 | val_acc: 0.26683\n",
      "Epoch[2/100] | train_loss: 1.41153 | train_acc: 0.25199 | val_loss: 0.22012 | val_acc: 0.25300\n",
      "Epoch[3/100] | train_loss: 1.41082 | train_acc: 0.25881 | val_loss: 0.21685 | val_acc: 0.24579\n",
      "Epoch[4/100] | train_loss: 1.40316 | train_acc: 0.26264 | val_loss: 0.21843 | val_acc: 0.25661\n",
      "Epoch[5/100] | train_loss: 1.41430 | train_acc: 0.24929 | val_loss: 0.22218 | val_acc: 0.25180\n",
      "Epoch[6/100] | train_loss: 1.40614 | train_acc: 0.26591 | val_loss: 0.21155 | val_acc: 0.25661\n",
      "Epoch[7/100] | train_loss: 1.39972 | train_acc: 0.27344 | val_loss: 0.21395 | val_acc: 0.26442\n",
      "Epoch[8/100] | train_loss: 1.40327 | train_acc: 0.26477 | val_loss: 0.21627 | val_acc: 0.25240\n",
      "Epoch[9/100] | train_loss: 1.39908 | train_acc: 0.26648 | val_loss: 0.21396 | val_acc: 0.27945\n",
      "Epoch[10/100] | train_loss: 1.39950 | train_acc: 0.26974 | val_loss: 0.21737 | val_acc: 0.28546\n",
      "Epoch[11/100] | train_loss: 1.39928 | train_acc: 0.26534 | val_loss: 0.21177 | val_acc: 0.27524\n",
      "Epoch[12/100] | train_loss: 1.39067 | train_acc: 0.28622 | val_loss: 0.21818 | val_acc: 0.27043\n",
      "Epoch[13/100] | train_loss: 1.39553 | train_acc: 0.27869 | val_loss: 0.21167 | val_acc: 0.27704\n",
      "Epoch[14/100] | train_loss: 1.39677 | train_acc: 0.26761 | val_loss: 0.21128 | val_acc: 0.26743\n"
     ]
    }
   ],
   "source": [
    "import torch.optim as optim\n",
    "import torch.nn as nn\n",
    "import model_resnet as resnet\n",
    "import model_har as har\n",
    "\n",
    "# モデルのインスタンス化\n",
    "net = har.HAR(num_classes=4).to(device)\n",
    "\n",
    "# 誤差関数を交差エントロピーで計算\n",
    "criterion = nn.CrossEntropyLoss()\n",
    "\n",
    "# 最適化アルゴリズム\n",
    "optimizer = optim.SGD(net.parameters(), lr = 1e-3, momentum=0.9)\n",
    "\n",
    "# 学習\n",
    "n_epoch = 100\n",
    "for epoch in range(n_epoch):\n",
    "    # 精度と損失の初期化\n",
    "    train_acc, train_loss = 0, 0\n",
    "    val_acc, val_loss = 0, 0\n",
    "    n_train, n_val = 0, 0\n",
    "\n",
    "    # 学習\n",
    "    for train_input, train_label in train_loader:\n",
    "        n_train += len(train_label)\n",
    "\n",
    "        # 入力と正解ラベルをGPU上に移動\n",
    "        input = train_input.to(device)\n",
    "        label = train_label.to(device)\n",
    "        # print(f'input : {input.shape}, label : {label.shape}')\n",
    "\n",
    "        optimizer.zero_grad()\n",
    "        output = net(input)\n",
    "        loss = criterion(output, label)\n",
    "        loss.backward()\n",
    "        optimizer.step()\n",
    "\n",
    "        predicted = torch.max(output, 1)[1]\n",
    "\n",
    "        train_loss += loss.item()\n",
    "        train_acc += (predicted == label).sum().item()\n",
    "\n",
    "    # 検証\n",
    "    for val_input, val_label in val_loader:\n",
    "        n_val += len(val_label)\n",
    "\n",
    "        val_input = val_input.to(device)\n",
    "        val_label = val_label.to(device)\n",
    "\n",
    "        val_output = net(val_input)\n",
    "        val_loss = criterion(val_output, val_label)\n",
    "\n",
    "        val_predicted = torch.max(val_output, 1)[1]\n",
    "\n",
    "        val_loss += val_loss.item()\n",
    "        val_acc += (val_predicted == val_label).sum().item()\n",
    "\n",
    "    # 精度を確率に変換\n",
    "    train_acc /= n_train\n",
    "    val_acc /= n_val\n",
    "    train_loss = train_loss * batch_size / n_train\n",
    "    val_loss = val_loss * batch_size / n_val\n",
    "\n",
    "    if not epoch%1:\n",
    "        print(f\"Epoch[{epoch+1}/{n_epoch}] | train_loss: {train_loss:.5f} | train_acc: {train_acc:.5f} | val_loss: {val_loss:.5f} | val_acc: {val_acc:.5f}\")\n"
   ]
  },
  {
   "cell_type": "markdown",
   "metadata": {},
   "source": [
    "# 推定"
   ]
  },
  {
   "cell_type": "code",
   "execution_count": null,
   "metadata": {},
   "outputs": [
    {
     "name": "stdout",
     "output_type": "stream",
     "text": [
      "loss : 1.05141, acc : 0.25632\n"
     ]
    }
   ],
   "source": [
    "test_loss, test_acc = 0, 0\n",
    "n_test = 0\n",
    "\n",
    "for test_input, test_label in test_loader:\n",
    "        n_test += len(test_label)\n",
    "\n",
    "        test_input = test_input.to(device)\n",
    "        test_label = test_label.to(device)\n",
    "\n",
    "        test_output = net(test_input)\n",
    "        test_loss = criterion(test_output, test_label)\n",
    "\n",
    "        test_predicted = torch.max(test_output, 1)[1]\n",
    "\n",
    "        test_loss += test_loss.item()\n",
    "        test_acc += (test_predicted == test_label).sum().item()\n",
    "        \n",
    "# 精度を確率に変換\n",
    "test_acc /= n_test\n",
    "test_loss = test_loss * batch_size / n_test\n",
    "\n",
    "print(f\"loss : {test_loss:.5f}, acc : {test_acc:.5f}\")"
   ]
  }
 ],
 "metadata": {
  "kernelspec": {
   "display_name": "py311",
   "language": "python",
   "name": "python3"
  },
  "language_info": {
   "codemirror_mode": {
    "name": "ipython",
    "version": 3
   },
   "file_extension": ".py",
   "mimetype": "text/x-python",
   "name": "python",
   "nbconvert_exporter": "python",
   "pygments_lexer": "ipython3",
   "version": "3.11.9"
  }
 },
 "nbformat": 4,
 "nbformat_minor": 2
}
