{
 "cells": [
  {
   "cell_type": "markdown",
   "metadata": {},
   "source": [
    "# 実験概要\n",
    "## CMNによる特徴量抽出\n",
    "**ケプストラム平均正規化** (Cepstrum Mean Normalization : CMN) を使用し、特徴量を抽出する。\n",
    "切り出した波形に対して**離散フーリエ変換** (Discrete Fourier Transform : DFT) を行い、絶対値を取ることで**振幅スペクトル**を得る。\n",
    "これに対して対数を取って**対数振幅スペクトル**に変換し、逆離散フーリエ変換 (Inverse Discrete Fourier Transform : IDFT) を行うことで、ケプストラム領域へと変換し、先頭50要素を切り出し、結合した100要素の配列を前処理として返す。\n",
    "この前処理は\n",
    "```\n",
    "left, right, posture = pp.slicer(\"raw\\\\\" + tester.**.**.value)\n",
    "cepstrum = pp.cmn_denoise(left, right)\n",
    "```\n",
    "によって行われる。\n",
    "\n",
    "## DNNによる寝姿勢分類\n",
    "DNNによって前処理したデータから学習・分類を行う。"
   ]
  },
  {
   "cell_type": "markdown",
   "metadata": {},
   "source": [
    "# モジュールのインポート"
   ]
  },
  {
   "cell_type": "code",
   "execution_count": 1,
   "metadata": {},
   "outputs": [],
   "source": [
    "import numpy as np\n",
    "import glob\n",
    "\n",
    "# 自作モジュール\n",
    "import datapath as dpath\n",
    "import preprocess as pp"
   ]
  },
  {
   "cell_type": "markdown",
   "metadata": {},
   "source": [
    "# DataLoaderの定義"
   ]
  },
  {
   "cell_type": "code",
   "execution_count": 2,
   "metadata": {},
   "outputs": [],
   "source": [
    "# tester以外のrawを読み込む\n",
    "for p in glob.glob(\".\\\\raw\\\\LMH\\\\*\\\\\", recursive=True):\n",
    "    print(p)"
   ]
  },
  {
   "cell_type": "code",
   "execution_count": 3,
   "metadata": {},
   "outputs": [
    {
     "name": "stdout",
     "output_type": "stream",
     "text": [
      "raw\\LMH\\H002\\fl_center\n",
      "type : LMH,  tester : H002,  mattress : fl\n",
      "[WindowsPath('raw/LMH/H002/fl_center'), WindowsPath('raw/LMH/H003/fl_center'), WindowsPath('raw/LMH/L001/fl_center'), WindowsPath('raw/LMH/L003/fl_center'), WindowsPath('raw/LMH/M001/fls_center'), WindowsPath('raw/LMH/M001/fld_center'), WindowsPath('raw/LMH/M001/fls_center'), WindowsPath('raw/LMH/M002/fls_center'), WindowsPath('raw/LMH/M002/fld_center'), WindowsPath('raw/LMH/M002/fls_center'), WindowsPath('raw/LMH/M003/fls_center'), WindowsPath('raw/LMH/M003/fld_center'), WindowsPath('raw/LMH/M003/fls_center'), WindowsPath('raw/LMH/M004/fls_center'), WindowsPath('raw/LMH/M004/fld_center'), WindowsPath('raw/LMH/M004/fls_center'), WindowsPath('raw/LMH/H002/fl_center'), WindowsPath('raw/LMH/H003/fl_center'), WindowsPath('raw/LMH/L001/fl_center'), WindowsPath('raw/LMH/L003/fl_center'), WindowsPath('raw/LMH/M001/fls_center'), WindowsPath('raw/LMH/M001/fld_center'), WindowsPath('raw/LMH/M001/fls_center'), WindowsPath('raw/LMH/M002/fls_center'), WindowsPath('raw/LMH/M002/fld_center'), WindowsPath('raw/LMH/M002/fls_center'), WindowsPath('raw/LMH/M003/fls_center'), WindowsPath('raw/LMH/M003/fld_center'), WindowsPath('raw/LMH/M003/fls_center'), WindowsPath('raw/LMH/M004/fls_center'), WindowsPath('raw/LMH/M004/fld_center'), WindowsPath('raw/LMH/M004/fls_center')]\n"
     ]
    }
   ],
   "source": [
    "e = dpath.LMH.H002.value.fl_center\n",
    "print(e.value)\n",
    "\n",
    "type, tester, mattress = dpath.getattributes(e, position=False)\n",
    "print(f\"type : {type},  tester : {tester},  mattress : {mattress}\")\n",
    "train_paths = eval(f\"dpath.{type}.serch('{mattress}')\")\n",
    "print(train_paths)"
   ]
  },
  {
   "cell_type": "code",
   "execution_count": 4,
   "metadata": {},
   "outputs": [],
   "source": [
    "import torch\n",
    "from typing import Tuple\n",
    "from torch.utils.data import Dataset, DataLoader\n",
    "from torchvision import transforms\n",
    "\n",
    "# 学習用データセットを読み込むためのDataLoaderを定義\n",
    "class train_datasets(Dataset):\n",
    "    def __init__(self, identity, transforms=None):\n",
    "        self.transform = transforms\n",
    "        self.type, self.tester, self.mattress = dpath.getattributes(identity)\n",
    "        print(self.type, self.tester, self.mattress)\n",
    "        print(\"train\")\n",
    "\n",
    "        # テスト以外のrawを読み込む\n",
    "        self.train_cepstrum = np.empty((0, 100))  # 100要素の配列\n",
    "        self.train_posture = np.empty(0)  # 姿勢データ配列\n",
    "\n",
    "        # mattressに該当するrawのpathを読み込む\n",
    "        train_paths = eval(f\"dpath.{self.type}.serch('{self.mattress}')\")\n",
    "        for p in train_paths:\n",
    "            if identity.value == p:\n",
    "                continue\n",
    "            left, right, posture = pp.slicer(p)\n",
    "            cepstrum = pp.cmn_denoise(left, right)\n",
    "            for c in cepstrum:\n",
    "                self.train_cepstrum = np.vstack((self.train_cepstrum, c)) if self.train_cepstrum.size else c\n",
    "            self.train_posture = np.append(self.train_posture, posture) if self.train_posture.size else posture\n",
    "\n",
    "    def __len__(self):\n",
    "        return len(self.train_posture)\n",
    "\n",
    "    def __getitem__(self, idx) -> Tuple[torch.tensor, torch.tensor]:\n",
    "        cepstrum = torch.tensor(self.train_cepstrum[idx].reshape(1, -1), dtype=torch.float32)\n",
    "        posture = torch.tensor(self.train_posture[idx]-1, dtype=torch.long)\n",
    "        if self.transform:\n",
    "            cepstrum = self.transform(cepstrum)\n",
    "        return cepstrum, posture\n",
    "\n",
    "\n",
    "# test用データセット\n",
    "class test_datasets(Dataset):\n",
    "    def __init__(self, identity, transform=None):\n",
    "        self.transform = transform\n",
    "        self.type, self.tester, self.mattress = dpath.getattributes(identity)\n",
    "        print(\"test\")\n",
    "\n",
    "        # 前処理したrawを読み込む\n",
    "        self.left, self.right, self.test_posture = pp.slicer(identity.value)\n",
    "        self.test_cepstrum = pp.cmn_denoise(self.left, self.right)\n",
    "\n",
    "    def __len__(self):\n",
    "        return len(self.test_posture)\n",
    "\n",
    "    def __getitem__(self, idx) -> Tuple[torch.tensor, torch.tensor]:\n",
    "        cepstrum = torch.tensor(self.test_cepstrum[idx].reshape(1, -1), dtype=torch.float32)\n",
    "        posture = torch.tensor(self.test_posture[idx]-1, dtype=torch.long)\n",
    "        if self.transform:\n",
    "            cepstrum = self.transform(cepstrum)\n",
    "        return cepstrum, posture"
   ]
  },
  {
   "cell_type": "markdown",
   "metadata": {},
   "source": [
    "# 学習＆検証"
   ]
  },
  {
   "cell_type": "code",
   "execution_count": 5,
   "metadata": {},
   "outputs": [
    {
     "name": "stdout",
     "output_type": "stream",
     "text": [
      "cpu\n"
     ]
    }
   ],
   "source": [
    "import torch\n",
    "\n",
    "device = torch.device('cuda' if torch.cuda.is_available() else 'cpu')\n",
    "print(device)"
   ]
  },
  {
   "cell_type": "code",
   "execution_count": 6,
   "metadata": {},
   "outputs": [
    {
     "name": "stdout",
     "output_type": "stream",
     "text": [
      "LMH H002 st\n",
      "train\n",
      "data[340 / 403]\n",
      "data[186 / 208]\n",
      "data[173 / 208]\n",
      "data[192 / 324]\n",
      "data[174 / 438]\n",
      "data[220 / 481]\n",
      "data[87 / 281]\n",
      "data[340 / 403]\n",
      "data[186 / 208]\n",
      "data[173 / 208]\n",
      "data[192 / 324]\n",
      "data[174 / 438]\n",
      "data[220 / 481]\n",
      "data[87 / 281]\n",
      "test\n",
      "data[194 / 230]\n"
     ]
    }
   ],
   "source": [
    "identity = dpath.LMH.H002.value.st_center\n",
    "\n",
    "train = train_datasets(identity)\n",
    "test = test_datasets(identity)\n",
    "batch_size = 128\n",
    "\n",
    "train_loader = DataLoader(\n",
    "    train,\n",
    "    batch_size=batch_size,\n",
    "    shuffle=True,\n",
    "    drop_last=True\n",
    ")\n",
    "\n",
    "test_loader = DataLoader(\n",
    "    test,\n",
    "    batch_size=batch_size,\n",
    "    shuffle=True,\n",
    "    drop_last=True\n",
    ")"
   ]
  },
  {
   "cell_type": "markdown",
   "metadata": {},
   "source": [
    "## 学習"
   ]
  },
  {
   "cell_type": "code",
   "execution_count": 11,
   "metadata": {},
   "outputs": [
    {
     "name": "stdout",
     "output_type": "stream",
     "text": [
      "Epoch[1/100], | loss: 1.38327 | acc: 0.36161 | val_loss: 1.51705 | val_acc: 0.29688\n",
      "Epoch[2/100], | loss: 1.34520 | acc: 0.40439 | val_loss: 1.47818 | val_acc: 0.35156\n",
      "Epoch[3/100], | loss: 1.30463 | acc: 0.45871 | val_loss: 1.51318 | val_acc: 0.34375\n",
      "Epoch[4/100], | loss: 1.26898 | acc: 0.49665 | val_loss: 1.43020 | val_acc: 0.34375\n",
      "Epoch[5/100], | loss: 1.23914 | acc: 0.53162 | val_loss: 1.41541 | val_acc: 0.41406\n",
      "Epoch[6/100], | loss: 1.21203 | acc: 0.56473 | val_loss: 1.40559 | val_acc: 0.44531\n",
      "Epoch[7/100], | loss: 1.18701 | acc: 0.59821 | val_loss: 1.39980 | val_acc: 0.40625\n",
      "Epoch[8/100], | loss: 1.16354 | acc: 0.63170 | val_loss: 1.41383 | val_acc: 0.42969\n",
      "Epoch[9/100], | loss: 1.14323 | acc: 0.64658 | val_loss: 1.37008 | val_acc: 0.52344\n",
      "Epoch[10/100], | loss: 1.12407 | acc: 0.67374 | val_loss: 1.36144 | val_acc: 0.50781\n",
      "Epoch[11/100], | loss: 1.10614 | acc: 0.69606 | val_loss: 1.36206 | val_acc: 0.48438\n",
      "Epoch[12/100], | loss: 1.08709 | acc: 0.72135 | val_loss: 1.33644 | val_acc: 0.54688\n",
      "Epoch[13/100], | loss: 1.07002 | acc: 0.74107 | val_loss: 1.34373 | val_acc: 0.54688\n",
      "Epoch[14/100], | loss: 1.05478 | acc: 0.75446 | val_loss: 1.31194 | val_acc: 0.57031\n",
      "Epoch[15/100], | loss: 1.04031 | acc: 0.77307 | val_loss: 1.30152 | val_acc: 0.56250\n",
      "Epoch[16/100], | loss: 1.02645 | acc: 0.78609 | val_loss: 1.30310 | val_acc: 0.56250\n",
      "Epoch[17/100], | loss: 1.01225 | acc: 0.79799 | val_loss: 1.33151 | val_acc: 0.54688\n",
      "Epoch[18/100], | loss: 1.00176 | acc: 0.80283 | val_loss: 1.31368 | val_acc: 0.55469\n",
      "Epoch[19/100], | loss: 0.98778 | acc: 0.81548 | val_loss: 1.29586 | val_acc: 0.54688\n",
      "Epoch[20/100], | loss: 0.97587 | acc: 0.82440 | val_loss: 1.32971 | val_acc: 0.53906\n",
      "Epoch[21/100], | loss: 0.96469 | acc: 0.83371 | val_loss: 1.27428 | val_acc: 0.63281\n",
      "Epoch[22/100], | loss: 0.95152 | acc: 0.84375 | val_loss: 1.29471 | val_acc: 0.58594\n",
      "Epoch[23/100], | loss: 0.94122 | acc: 0.84301 | val_loss: 1.27741 | val_acc: 0.57031\n",
      "Epoch[24/100], | loss: 0.92932 | acc: 0.85379 | val_loss: 1.24568 | val_acc: 0.64844\n",
      "Epoch[25/100], | loss: 0.91694 | acc: 0.86533 | val_loss: 1.28703 | val_acc: 0.60156\n",
      "Epoch[26/100], | loss: 0.90938 | acc: 0.86533 | val_loss: 1.22888 | val_acc: 0.63281\n",
      "Epoch[27/100], | loss: 0.89778 | acc: 0.87091 | val_loss: 1.26162 | val_acc: 0.65625\n",
      "Epoch[28/100], | loss: 0.89037 | acc: 0.87165 | val_loss: 1.24697 | val_acc: 0.64844\n",
      "Epoch[29/100], | loss: 0.88118 | acc: 0.87388 | val_loss: 1.20155 | val_acc: 0.67969\n",
      "Epoch[30/100], | loss: 0.87248 | acc: 0.87835 | val_loss: 1.24403 | val_acc: 0.64844\n",
      "Epoch[31/100], | loss: 0.86150 | acc: 0.89100 | val_loss: 1.24225 | val_acc: 0.65625\n",
      "Epoch[32/100], | loss: 0.85346 | acc: 0.88802 | val_loss: 1.24623 | val_acc: 0.64844\n",
      "Epoch[33/100], | loss: 0.84554 | acc: 0.89509 | val_loss: 1.26113 | val_acc: 0.60938\n",
      "Epoch[34/100], | loss: 0.83801 | acc: 0.89323 | val_loss: 1.26935 | val_acc: 0.60156\n",
      "Epoch[35/100], | loss: 0.82642 | acc: 0.90216 | val_loss: 1.20527 | val_acc: 0.67969\n",
      "Epoch[36/100], | loss: 0.81873 | acc: 0.90402 | val_loss: 1.22654 | val_acc: 0.64062\n",
      "Epoch[37/100], | loss: 0.81037 | acc: 0.90774 | val_loss: 1.21029 | val_acc: 0.66406\n",
      "Epoch[38/100], | loss: 0.80322 | acc: 0.91443 | val_loss: 1.26225 | val_acc: 0.62500\n",
      "Epoch[39/100], | loss: 0.79735 | acc: 0.91109 | val_loss: 1.22350 | val_acc: 0.65625\n",
      "Epoch[40/100], | loss: 0.78832 | acc: 0.91704 | val_loss: 1.22360 | val_acc: 0.62500\n",
      "Epoch[41/100], | loss: 0.78009 | acc: 0.92225 | val_loss: 1.19449 | val_acc: 0.66406\n",
      "Epoch[42/100], | loss: 0.77382 | acc: 0.92336 | val_loss: 1.21794 | val_acc: 0.64062\n",
      "Epoch[43/100], | loss: 0.76709 | acc: 0.92411 | val_loss: 1.14658 | val_acc: 0.67188\n",
      "Epoch[44/100], | loss: 0.75846 | acc: 0.92820 | val_loss: 1.20162 | val_acc: 0.64844\n",
      "Epoch[45/100], | loss: 0.75139 | acc: 0.92485 | val_loss: 1.19667 | val_acc: 0.65625\n",
      "Epoch[46/100], | loss: 0.74820 | acc: 0.92597 | val_loss: 1.21520 | val_acc: 0.64062\n",
      "Epoch[47/100], | loss: 0.73845 | acc: 0.93080 | val_loss: 1.22510 | val_acc: 0.61719\n",
      "Epoch[48/100], | loss: 0.73412 | acc: 0.92894 | val_loss: 1.23340 | val_acc: 0.61719\n",
      "Epoch[49/100], | loss: 0.72868 | acc: 0.93043 | val_loss: 1.15111 | val_acc: 0.67188\n",
      "Epoch[50/100], | loss: 0.72074 | acc: 0.93192 | val_loss: 1.14906 | val_acc: 0.68750\n"
     ]
    }
   ],
   "source": [
    "import torch.optim as optim\n",
    "import torch.nn as nn\n",
    "import model_resnet as resnet\n",
    "\n",
    "# モデルのインスタンス化\n",
    "net = resnet.resnet18_1d(num_classes=4).to(device)\n",
    "\n",
    "# 誤差関数を交差エントロピーで計算\n",
    "criterion = nn.CrossEntropyLoss()\n",
    "\n",
    "# 最適化アルゴリズム\n",
    "optimizer = optim.SGD(net.parameters(), lr = 1e-6, momentum=0.9)\n",
    "\n",
    "# 学習\n",
    "n_epoch = 100\n",
    "for epoch in range(n_epoch):\n",
    "    # 精度と損失の初期化\n",
    "    train_acc, train_loss = 0, 0\n",
    "    val_acc, val_loss = 0, 0\n",
    "    n_train, n_test = 0, 0\n",
    "\n",
    "    # 学習\n",
    "    for train_input, train_label in train_loader:\n",
    "        n_train += len(train_label)\n",
    "\n",
    "        # 入力と正解ラベルをGPU上に移動\n",
    "        input = train_input.to(device)\n",
    "        label = train_label.to(device)\n",
    "        # print(f'input : {input.shape}, label : {label.shape}')\n",
    "\n",
    "        optimizer.zero_grad()\n",
    "        output = net(input)\n",
    "        loss = criterion(output, label)\n",
    "        loss.backward()\n",
    "        optimizer.step()\n",
    "\n",
    "        predicted = torch.max(output, 1)[1]\n",
    "\n",
    "        train_loss += loss.item()\n",
    "        train_acc += (predicted == label).sum().item()\n",
    "\n",
    "    # 検証\n",
    "    for test_input, test_label in test_loader:\n",
    "        n_test += len(test_label)\n",
    "\n",
    "        test_input = test_input.to(device)\n",
    "        test_label = test_label.to(device)\n",
    "\n",
    "        test_output = net(test_input)\n",
    "        test_loss = criterion(test_output, test_label)\n",
    "\n",
    "        test_predicted = torch.max(test_output, 1)[1]\n",
    "\n",
    "        val_loss += test_loss.item()\n",
    "        val_acc += (test_predicted == test_label).sum().item()\n",
    "\n",
    "    # 精度を確率に変換\n",
    "    train_acc /= n_train\n",
    "    val_acc /= n_test\n",
    "    train_loss = train_loss * batch_size / n_train\n",
    "    val_loss = val_loss * batch_size / n_test\n",
    "\n",
    "    print(f\"Epoch[{epoch+1}/{n_epoch}], | loss: {train_loss:.5f} | acc: {train_acc:.5f} | val_loss: {val_loss:.5f} | val_acc: {val_acc:.5f}\")\n"
   ]
  }
 ],
 "metadata": {
  "kernelspec": {
   "display_name": "py311",
   "language": "python",
   "name": "python3"
  },
  "language_info": {
   "codemirror_mode": {
    "name": "ipython",
    "version": 3
   },
   "file_extension": ".py",
   "mimetype": "text/x-python",
   "name": "python",
   "nbconvert_exporter": "python",
   "pygments_lexer": "ipython3",
   "version": "3.11.8"
  }
 },
 "nbformat": 4,
 "nbformat_minor": 2
}
