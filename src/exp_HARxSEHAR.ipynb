{
 "cells": [
  {
   "cell_type": "markdown",
   "metadata": {},
   "source": [
    "# DataLoaderの定義"
   ]
  },
  {
   "cell_type": "code",
   "execution_count": 1,
   "metadata": {},
   "outputs": [],
   "source": [
    "import torch\n",
    "from typing import Tuple\n",
    "from torch.utils.data import Dataset, DataLoader\n",
    "from torchvision import transforms\n",
    "import numpy as np\n",
    "\n",
    "# 自作モジュール\n",
    "import utills.datapath as dpath\n",
    "import utills.preprocess as pp\n",
    "\n",
    "class dataset(Dataset):\n",
    "    def __init__(self, paths, concat=True, transforms=None):\n",
    "        self.transforms = transforms\n",
    "        self.concat = concat\n",
    "\n",
    "        # データを格納する配列を確保\n",
    "        if concat:\n",
    "            self.train_cepstrum = np.empty((0, 100))  # 100要素の配列\n",
    "        else:\n",
    "            self.train_cepstrum = []\n",
    "        self.train_posture = np.empty(0)  # 姿勢データ配列\n",
    "\n",
    "        # データ読み込みと前処理\n",
    "        for p in paths:\n",
    "            left, right, posture = pp.slicer(p)\n",
    "            cepstrum = pp.cmn_denoise(left, right, concat=concat)\n",
    "            for cep in cepstrum:\n",
    "                if concat:\n",
    "                    self.train_cepstrum = np.vstack((self.train_cepstrum, cep)) if self.train_cepstrum.size else cep\n",
    "                else:\n",
    "                    self.train_cepstrum.append(cep)\n",
    "            self.train_posture = np.append(self.train_posture, posture) if self.train_posture.size else posture\n",
    "\n",
    "    def __len__(self):\n",
    "        return len(self.train_posture)\n",
    "\n",
    "    def __getitem__(self, idx) -> Tuple[torch.tensor, torch.tensor]:\n",
    "        if self.concat:\n",
    "            cepstrum = torch.tensor(self.train_cepstrum[idx].reshape(1,-1), dtype=torch.float32)\n",
    "        else:\n",
    "            cepstrum = torch.tensor(self.train_cepstrum[idx], dtype=torch.float32)\n",
    "        posture = torch.tensor(self.train_posture[idx]-1, dtype=torch.long)\n",
    "        if self.transforms is not None:\n",
    "            cepstrum = self.transforms(cepstrum)\n",
    "            posture = self.transforms(posture)\n",
    "        return cepstrum, posture"
   ]
  }
 ],
 "metadata": {
  "kernelspec": {
   "display_name": "satou",
   "language": "python",
   "name": "python3"
  },
  "language_info": {
   "codemirror_mode": {
    "name": "ipython",
    "version": 3
   },
   "file_extension": ".py",
   "mimetype": "text/x-python",
   "name": "python",
   "nbconvert_exporter": "python",
   "pygments_lexer": "ipython3",
   "version": "3.11.9"
  }
 },
 "nbformat": 4,
 "nbformat_minor": 2
}
